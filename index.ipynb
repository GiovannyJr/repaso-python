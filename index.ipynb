{
 "cells": [
  {
   "cell_type": "code",
   "execution_count": 1,
   "metadata": {},
   "outputs": [
    {
     "name": "stdout",
     "output_type": "stream",
     "text": [
      "La suma de los 2 numeros es: 15\n",
      "La multiplicacion de los 2 numeros es: 50\n"
     ]
    }
   ],
   "source": [
    "#Variables \n",
    "numero1 = 5\n",
    "numero2 = 10\n",
    "suma = numero1 + numero2\n",
    "\n",
    "#casing de int =< str\n",
    "print(\"La suma de los 2 numeros es: \" + str(suma))\n",
    "\n",
    "#print usando una expresion (La expresion se evalua a un valor)\n",
    "print(\"La multiplicacion de los 2 numeros es: \" + str(numero1 * numero2))"
   ]
  },
  {
   "cell_type": "code",
   "execution_count": 2,
   "metadata": {},
   "outputs": [
    {
     "name": "stdout",
     "output_type": "stream",
     "text": [
      "El resultado de la suma es: 10\n"
     ]
    }
   ],
   "source": [
    "#Entrada de datos\n",
    "a = input(\"Vamos a sumar 2 numeros. Introduce el primer numero\")\n",
    "b = input(\"Vamos a sumar 2 numeros. Introduce el segundo numero\")\n",
    "print(\"El resultado de la suma es: \" + str(int(a) + int(b)))"
   ]
  },
  {
   "cell_type": "code",
   "execution_count": 4,
   "metadata": {},
   "outputs": [
    {
     "name": "stdout",
     "output_type": "stream",
     "text": [
      "El numero1 es menor\n"
     ]
    }
   ],
   "source": [
    "#control de fujo (if)\n",
    "numero1 = 5\n",
    "numero2 = 10\n",
    "if numero1 < numero2:\n",
    "    print(\"El numero1 es menor\")\n",
    "else:\n",
    "    print(\"El numero2 es menor\")"
   ]
  },
  {
   "cell_type": "code",
   "execution_count": 6,
   "metadata": {},
   "outputs": [
    {
     "name": "stdout",
     "output_type": "stream",
     "text": [
      "La lista es: [1, 2, 3, 4, 5]\n",
      "El doble de cada elemnto de la lista es: 2\n",
      "El doble de cada elemnto de la lista es: 4\n",
      "El doble de cada elemnto de la lista es: 6\n",
      "El doble de cada elemnto de la lista es: 8\n",
      "El doble de cada elemnto de la lista es: 10\n"
     ]
    }
   ],
   "source": [
    "#control de flujo (for)\n",
    "mi_lista =[1, 2, 3, 4, 5]\n",
    "print(\"La lista es: \" + str(mi_lista))\n",
    "for elemento in mi_lista:\n",
    "    print(\"El doble de cada elemnto de la lista es: \" + str(elemento*2))"
   ]
  },
  {
   "cell_type": "code",
   "execution_count": 9,
   "metadata": {},
   "outputs": [
    {
     "name": "stdout",
     "output_type": "stream",
     "text": [
      "sum 110\n"
     ]
    }
   ],
   "source": [
    "#Control de flujo (while)\n",
    "i = 1 \n",
    "s = 0\n",
    "while i <= 10:\n",
    "    s = s + i*2\n",
    "    i = i + 1\n",
    "print(\"sum\", s)"
   ]
  },
  {
   "cell_type": "code",
   "execution_count": 13,
   "metadata": {},
   "outputs": [
    {
     "name": "stdout",
     "output_type": "stream",
     "text": [
      "\n",
      "## ACCESO A LOS ELEMENTOS DE LA LISTA\n",
      "Todos los elementos de la lista\n",
      "[1, 2, 3, 7, 10]\n",
      "Todos los elementos de la lista (con strings):\n",
      "['audi', 'ford', 'citroen', 'ferrari', 'peugeot']\n",
      "El primer elemento es =>audi\n",
      "El ultimo elemento es =>peugeot\n",
      "\n",
      "La longitud de la lista es => 5\n",
      "La marca numero 0 es=>audi\n",
      "La marca numero 1 es=>ford\n",
      "La marca numero 2 es=>citroen\n",
      "La marca numero 3 es=>ferrari\n",
      "La marca numero 4 es=>peugeot\n",
      "\n",
      "### LISTA CON ELEMENTOS DE DIFERENTES TIPOS ###\n",
      "Valores de la lista con diferentes tipos:\n",
      "['Telefonica', 1500, 37.5, True]\n"
     ]
    }
   ],
   "source": [
    "#LISTAS()\n",
    "print(\"\\n## ACCESO A LOS ELEMENTOS DE LA LISTA\")\n",
    "lista1 = [1, 2, 3, 7, 10]\n",
    "print(\"Todos los elementos de la lista (con numeros):\")\n",
    "print(lista1)\n",
    "\n",
    "lista_marcas_coche = [\"audi\", \"ford\", \"citroen\", \"ferrari\", \"peugeot\"]\n",
    "print(\"Todos los elementos de la lista (con strings):\")\n",
    "print(lista_marcas_coche)\n",
    "\n",
    "\n",
    "print(\"El primer elemento es =>\" + lista_marcas_coche[0])\n",
    "print(\"El ultimo elemento es =>\" + lista_marcas_coche[-1])\n",
    "\n",
    "# print()\n",
    "# #ITEAR una lista\n",
    "# print(\"La longitud de la lista es => \" + str(len(lista_marcas_coche)))\n",
    "# for indice in range(len(lista_marcas_coche)):\n",
    "#     print(\"La marca numero \" + str(indice) + \" es=>\" + lista_marcas_coche[indice])\n",
    "    \n",
    "# print(\"\\n### LISTA CON ELEMENTOS DE DIFERENTES TIPOS ###\")\n",
    "# caracteristicas_empleo = [\"Telefonica\", 1500, 37.5, True] #Tipo booleano (True/False)\n",
    "# print(\"Valores de la lista con diferentes tipos:\")\n",
    "# print(caracteristicas_empleo)\n"
   ]
  }
 ],
 "metadata": {
  "kernelspec": {
   "display_name": "Python 3",
   "language": "python",
   "name": "python3"
  },
  "language_info": {
   "codemirror_mode": {
    "name": "ipython",
    "version": 3
   },
   "file_extension": ".py",
   "mimetype": "text/x-python",
   "name": "python",
   "nbconvert_exporter": "python",
   "pygments_lexer": "ipython3",
   "version": "3.11.3"
  }
 },
 "nbformat": 4,
 "nbformat_minor": 2
}
